{
 "cells": [
  {
   "cell_type": "markdown",
   "metadata": {},
   "source": [
    "# 69"
   ]
  },
  {
   "cell_type": "code",
   "execution_count": 71,
   "metadata": {},
   "outputs": [],
   "source": [
    "def totient_function(prime_factors):\n",
    "    multiplication = 1\n",
    "    for factor in set(prime_factors):\n",
    "        multiplication *= (1.0 - 1.0/factor)\n",
    "    return 1.0/multiplication"
   ]
  },
  {
   "cell_type": "code",
   "execution_count": 72,
   "metadata": {},
   "outputs": [],
   "source": [
    "def prime_factors_generator(n):\n",
    "    prime_factors = [[i] for i in range(n+1)]\n",
    "    composite = [False]*(n+1)\n",
    "    #Assume all number is prime\n",
    "\n",
    "    #find the prime factors of all the odd composite numbers \n",
    "    #prime numbers' range is 100**0.5\n",
    "    for i in range(3, int(n**0.5)+1, 2):\n",
    "        if not composite[i]:\n",
    "            for j in range(i,int(n/i+1), 2):\n",
    "                mul = i*j\n",
    "                prime_factors[mul] = [i] + prime_factors[j]\n",
    "                composite[mul] = True\n",
    "                #true is composite nnumber\n",
    "\n",
    "    #for even numbers\n",
    "    for j in range(2, int(n/2+1)):\n",
    "        mul = 2*j\n",
    "        prime_factors[mul] = [2] + prime_factors[j]\n",
    "        composite[mul] = True\n",
    "    return prime_factors"
   ]
  },
  {
   "cell_type": "code",
   "execution_count": 73,
   "metadata": {},
   "outputs": [
    {
     "name": "stdout",
     "output_type": "stream",
     "text": [
      "510510\n"
     ]
    }
   ],
   "source": [
    "p_f = prime_factors_generator(1000000)\n",
    "\n",
    "p_f_nums = list(map(totient_function, p_f[2:]))\n",
    "\n",
    "print(p_f_nums.index(max(p_f_nums))+2)"
   ]
  },
  {
   "cell_type": "markdown",
   "metadata": {},
   "source": [
    "# 347"
   ]
  },
  {
   "cell_type": "code",
   "execution_count": 35,
   "metadata": {},
   "outputs": [
    {
     "name": "stdout",
     "output_type": "stream",
     "text": [
      "5000000\n"
     ]
    }
   ],
   "source": [
    "import math\n",
    "import sympy\n",
    "print(5*10**6)"
   ]
  },
  {
   "cell_type": "code",
   "execution_count": 58,
   "metadata": {},
   "outputs": [],
   "source": [
    "#generate a list of all prime numbers in the range [a,b)\n",
    "sieve = list(sympy.primerange(0,5*10**6))"
   ]
  },
  {
   "cell_type": "code",
   "execution_count": 59,
   "metadata": {},
   "outputs": [
    {
     "name": "stderr",
     "output_type": "stream",
     "text": [
      "IOPub data rate exceeded.\n",
      "The notebook server will temporarily stop sending output\n",
      "to the client in order to avoid crashing it.\n",
      "To change this limit, set the config variable\n",
      "`--NotebookApp.iopub_data_rate_limit`.\n",
      "\n",
      "Current values:\n",
      "NotebookApp.iopub_data_rate_limit=1000000.0 (bytes/sec)\n",
      "NotebookApp.rate_limit_window=3.0 (secs)\n",
      "\n"
     ]
    }
   ],
   "source": [
    "print(sieve)"
   ]
  },
  {
   "cell_type": "code",
   "execution_count": 60,
   "metadata": {},
   "outputs": [
    {
     "name": "stdout",
     "output_type": "stream",
     "text": [
      "3.5237190142858297\n",
      "1.0\n",
      "1\n"
     ]
    }
   ],
   "source": [
    "print(math.log(96/2)/math.log(3))\n",
    "print(math.log(math.e))\n",
    "print(10//10)"
   ]
  },
  {
   "cell_type": "code",
   "execution_count": 61,
   "metadata": {},
   "outputs": [],
   "source": [
    "def M(p,q,N):\n",
    "    Max = 0\n",
    "    for k in range(1,int(math.log(N//q)/math.log(p))+2):\n",
    "        for l in range(1,int(math.log(N//p**k)/math.log(q))+2):\n",
    "            if(p**k)*(q**l)<=N and (p**k)*(q**l)>Max:\n",
    "                Max = (p**k)*(q**l)\n",
    "    return Max"
   ]
  },
  {
   "cell_type": "code",
   "execution_count": 62,
   "metadata": {},
   "outputs": [],
   "source": [
    "def S(n):\n",
    "    smax = 0\n",
    "    for a in range(0,len(sieve)):\n",
    "        for b in range(a+1,len(sieve)):\n",
    "            if sieve[a]*sieve[b] > n:\n",
    "                break\n",
    "            smax += M(sieve[a],sieve[b],n)\n",
    "    return smax"
   ]
  },
  {
   "cell_type": "code",
   "execution_count": 63,
   "metadata": {},
   "outputs": [
    {
     "name": "stdout",
     "output_type": "stream",
     "text": [
      "11109800204052\n"
     ]
    }
   ],
   "source": [
    "print(S(10000000))"
   ]
  },
  {
   "cell_type": "markdown",
   "metadata": {},
   "source": [
    "# 433"
   ]
  },
  {
   "cell_type": "code",
   "execution_count": 1,
   "metadata": {},
   "outputs": [],
   "source": [
    "from math import *"
   ]
  },
  {
   "cell_type": "code",
   "execution_count": 2,
   "metadata": {},
   "outputs": [],
   "source": [
    "def euclid_algo(x,y,a=0):\n",
    "    if x<y:\n",
    "        a+=1\n",
    "        return euclid_algo(y,x,a)\n",
    "    #print()\n",
    "    while y!=0:\n",
    "        if True:\n",
    "            #print('%s = %s * %s + %s' % (x,floor(x/y),y,x%y))\n",
    "            (x,y) = (y,x%y)\n",
    "            a += 1\n",
    "            \n",
    "    if True:\n",
    "        #print('gcd is %s' %x)\n",
    "        a = a\n",
    "    return a"
   ]
  },
  {
   "cell_type": "code",
   "execution_count": 3,
   "metadata": {},
   "outputs": [
    {
     "data": {
      "text/plain": [
       "4"
      ]
     },
     "execution_count": 3,
     "metadata": {},
     "output_type": "execute_result"
    }
   ],
   "source": [
    "euclid_algo(6,10)"
   ]
  },
  {
   "cell_type": "code",
   "execution_count": 162,
   "metadata": {},
   "outputs": [],
   "source": [
    "def euclid_algo(x,y):\n",
    "    a,b,c,d=0,1,1,0\n",
    "    while x!=0:\n",
    "        e,f = y//x,y%x\n",
    "        g,h = a - c*e,b-d*e\n",
    "        y,x,a,b,c,d = x,f,c,d,g,h\n",
    "    gcd = y\n",
    "    return gcd"
   ]
  },
  {
   "cell_type": "code",
   "execution_count": 163,
   "metadata": {},
   "outputs": [
    {
     "name": "stdout",
     "output_type": "stream",
     "text": [
      "3\n"
     ]
    }
   ],
   "source": [
    "print(gcd(150,33))"
   ]
  },
  {
   "cell_type": "code",
   "execution_count": 4,
   "metadata": {},
   "outputs": [],
   "source": [
    "def S(N):\n",
    "    sum = 0\n",
    "    for x  in range(1,N+1):\n",
    "        for y in range(1,N+1):\n",
    "            sum += euclid_algo(x,y)\n",
    "    return sum"
   ]
  },
  {
   "cell_type": "code",
   "execution_count": null,
   "metadata": {},
   "outputs": [],
   "source": [
    "print(S(5*10**6))"
   ]
  },
  {
   "cell_type": "markdown",
   "metadata": {},
   "source": [
    "# 498"
   ]
  },
  {
   "cell_type": "code",
   "execution_count": 1,
   "metadata": {},
   "outputs": [],
   "source": [
    "import numpy as np"
   ]
  },
  {
   "cell_type": "code",
   "execution_count": 3,
   "metadata": {},
   "outputs": [],
   "source": [
    "x = np.array([3,5,2])\n",
    "y = np.array([2,1])\n",
    "z = np.polydiv(x,y)"
   ]
  },
  {
   "cell_type": "code",
   "execution_count": 4,
   "metadata": {},
   "outputs": [
    {
     "name": "stdout",
     "output_type": "stream",
     "text": [
      "(array([1.5 , 1.75]), array([0.25]))\n"
     ]
    }
   ],
   "source": [
    "print(z)"
   ]
  },
  {
   "cell_type": "code",
   "execution_count": 5,
   "metadata": {},
   "outputs": [
    {
     "data": {
      "text/plain": [
       "472294837"
      ]
     },
     "execution_count": 5,
     "metadata": {},
     "output_type": "execute_result"
    }
   ],
   "source": [
    "472294837"
   ]
  },
  {
   "cell_type": "markdown",
   "metadata": {},
   "source": [
    "# 531"
   ]
  },
  {
   "cell_type": "markdown",
   "metadata": {},
   "source": [
    "# 59"
   ]
  },
  {
   "cell_type": "code",
   "execution_count": 28,
   "metadata": {},
   "outputs": [],
   "source": [
    "def check_letter(asciil,ascii2):\n",
    "    '''\n",
    "    A-Z:32-90;a-z:97-122\n",
    "    \n",
    "    '''\n",
    "    xor = ascii1 ^ ascii2\n",
    "    if 32 <= xor <= 90 or 97 <= xor <= 122:\n",
    "        return True\n",
    "    else:\n",
    "        return False"
   ]
  },
  {
   "cell_type": "code",
   "execution_count": 29,
   "metadata": {},
   "outputs": [],
   "source": [
    "def decrypt(s,t):\n",
    "    return ''.join(chr(a ^ ord(b)) for a,b in zip(s,t))"
   ]
  },
  {
   "cell_type": "code",
   "execution_count": 30,
   "metadata": {},
   "outputs": [],
   "source": [
    "f = open(r'C:\\Users\\natur\\Desktop\\play_game\\crypto_summer\\file_know\\p059_cipher.txt')"
   ]
  },
  {
   "cell_type": "code",
   "execution_count": 31,
   "metadata": {},
   "outputs": [],
   "source": [
    "cipher = f.read().strip().split(',')"
   ]
  },
  {
   "cell_type": "code",
   "execution_count": 32,
   "metadata": {},
   "outputs": [],
   "source": [
    "cipher = [int(x) for x in cipher]"
   ]
  },
  {
   "cell_type": "code",
   "execution_count": 33,
   "metadata": {},
   "outputs": [],
   "source": [
    "eng_letters = range(97, 123)"
   ]
  },
  {
   "cell_type": "code",
   "execution_count": 34,
   "metadata": {},
   "outputs": [],
   "source": [
    "first_letter = set([])"
   ]
  },
  {
   "cell_type": "code",
   "execution_count": 35,
   "metadata": {},
   "outputs": [],
   "source": [
    "for j in eng_letters:\n",
    "    for i in range(0, len(cipher), 3):\n",
    "        first_letter.add(j)\n",
    "        if not check_english(cipher[i], j):\n",
    "            first_letter.remove(j)\n",
    "            break"
   ]
  },
  {
   "cell_type": "code",
   "execution_count": 36,
   "metadata": {},
   "outputs": [],
   "source": [
    "second_letter = set([])\n",
    "\n",
    "for k in eng_letters:\n",
    "    for l in range(1, len(cipher), 3):\n",
    "        second_letter.add(k)\n",
    "        #print(second_letter)\n",
    "        if not check_english(cipher[l], k):\n",
    "            second_letter.remove(k)\n",
    "            break"
   ]
  },
  {
   "cell_type": "code",
   "execution_count": 37,
   "metadata": {},
   "outputs": [],
   "source": [
    "third_letter = set([])\n",
    "\n",
    "for m in eng_letters:\n",
    "    for n in range(2, len(cipher), 3):\n",
    "        third_letter.add(m)\n",
    "        if not check_english(cipher[n], m):\n",
    "            third_letter.remove(m)\n",
    "            break"
   ]
  },
  {
   "cell_type": "code",
   "execution_count": 38,
   "metadata": {},
   "outputs": [
    {
     "name": "stdout",
     "output_type": "stream",
     "text": [
      "set()\n"
     ]
    },
    {
     "ename": "IndexError",
     "evalue": "list index out of range",
     "output_type": "error",
     "traceback": [
      "\u001b[1;31m---------------------------------------------------------------------------\u001b[0m",
      "\u001b[1;31mIndexError\u001b[0m                                Traceback (most recent call last)",
      "\u001b[1;32m<ipython-input-38-6941b2a7c236>\u001b[0m in \u001b[0;36m<module>\u001b[1;34m\u001b[0m\n\u001b[0;32m      5\u001b[0m \u001b[0mprint\u001b[0m\u001b[1;33m(\u001b[0m\u001b[0msecond_letter\u001b[0m\u001b[1;33m)\u001b[0m\u001b[1;33m\u001b[0m\u001b[1;33m\u001b[0m\u001b[0m\n\u001b[0;32m      6\u001b[0m \u001b[1;33m\u001b[0m\u001b[0m\n\u001b[1;32m----> 7\u001b[1;33m \u001b[0mb\u001b[0m \u001b[1;33m=\u001b[0m \u001b[0mlist\u001b[0m\u001b[1;33m(\u001b[0m\u001b[0msecond_letter\u001b[0m\u001b[1;33m)\u001b[0m\u001b[1;33m[\u001b[0m\u001b[1;36m0\u001b[0m\u001b[1;33m]\u001b[0m\u001b[1;33m\u001b[0m\u001b[1;33m\u001b[0m\u001b[0m\n\u001b[0m\u001b[0;32m      8\u001b[0m \u001b[0msecond_letter\u001b[0m \u001b[1;33m=\u001b[0m \u001b[0mchr\u001b[0m\u001b[1;33m(\u001b[0m\u001b[0mb\u001b[0m\u001b[1;33m)\u001b[0m\u001b[1;33m\u001b[0m\u001b[1;33m\u001b[0m\u001b[0m\n\u001b[0;32m      9\u001b[0m \u001b[1;33m\u001b[0m\u001b[0m\n",
      "\u001b[1;31mIndexError\u001b[0m: list index out of range"
     ]
    }
   ],
   "source": [
    "a = list(first_letter)[0]\n",
    "first_letter = chr(a)\n",
    "\n",
    "#print(first_letter)\n",
    "print(second_letter)\n",
    "\n",
    "b = list(second_letter)[0]\n",
    "second_letter = chr(b)\n",
    "\n",
    "c = list(third_letter)[0]\n",
    "third_letter = chr(c)"
   ]
  },
  {
   "cell_type": "markdown",
   "metadata": {},
   "source": [
    "# 79"
   ]
  },
  {
   "cell_type": "code",
   "execution_count": 39,
   "metadata": {},
   "outputs": [
    {
     "name": "stdout",
     "output_type": "stream",
     "text": [
      "73162890\n"
     ]
    }
   ],
   "source": [
    "import itertools\n",
    "\n",
    "\n",
    "def compute():\n",
    "    # get rid of duplicate\n",
    "    charsused = sorted(set().union(*SUBSEQS))\n",
    "    base = len(charsused)\n",
    "    \n",
    "    # Try ascending lengths\n",
    "    for length in itertools.count(base):\n",
    "        indices = [0] * length\n",
    "        while True:\n",
    "            guess = \"\".join(charsused[d] for d in indices)\n",
    "            if is_consistent(guess):\n",
    "                return guess\n",
    "            \n",
    "            # Increment indices\n",
    "            i = 0\n",
    "            while i < length and indices[i] == base - 1:\n",
    "                indices[i] = 0\n",
    "                i += 1\n",
    "            if i == length:\n",
    "                break\n",
    "            indices[i] += 1\n",
    "\n",
    "\n",
    "def is_consistent(guess):\n",
    "    return all(is_subsequence(s, guess) for s in SUBSEQS)\n",
    "\n",
    "\n",
    "def is_subsequence(shortstr, longstr):\n",
    "    i = 0\n",
    "    for c in longstr:\n",
    "        if c == shortstr[i]:\n",
    "            i += 1\n",
    "            if i == len(shortstr):\n",
    "                return True\n",
    "    return False\n",
    "\n",
    "\n",
    "SUBSEQS = [\"319\", \"680\", \"180\", \"690\", \"129\", \"620\", \"762\", \"689\", \"762\", \"318\", \"368\", \"710\", \"720\", \"710\", \"629\", \"168\", \"160\", \"689\", \"716\", \"731\", \"736\", \"729\", \"316\", \"729\", \"729\", \"710\", \"769\", \"290\", \"719\", \"680\", \"318\", \"389\", \"162\", \"289\", \"162\", \"718\", \"729\", \"319\", \"790\", \"680\", \"890\", \"362\", \"319\", \"760\", \"316\", \"729\", \"380\", \"319\", \"728\", \"716\"]\n",
    "\n",
    "\n",
    "if __name__ == \"__main__\":\n",
    "    print(compute())"
   ]
  },
  {
   "cell_type": "markdown",
   "metadata": {},
   "source": [
    "# 182"
   ]
  },
  {
   "cell_type": "code",
   "execution_count": 40,
   "metadata": {},
   "outputs": [],
   "source": [
    "import fractions, sys"
   ]
  },
  {
   "cell_type": "code",
   "execution_count": 41,
   "metadata": {},
   "outputs": [],
   "source": [
    "def compute():\n",
    "    P = 1009\n",
    "    Q = 3643\n",
    "    TOTIENT = (P - 1) * (Q - 1)\n",
    "    numunconcealedp = count_all_unconcealed(P)\n",
    "    numunconcealedq = count_all_unconcealed(Q)\n",
    "    minunconcealedp = min(numunconcealedp)\n",
    "    minunconcealedq = min(numunconcealedq)\n",
    "    \n",
    "    ans = sum(e for e in range(TOTIENT)\n",
    "              if numunconcealedp[e % (P - 1)] == minunconcealedp and numunconcealedq[e % (Q - 1)] == minunconcealedq)\n",
    "    return str(ans)"
   ]
  },
  {
   "cell_type": "code",
   "execution_count": 42,
   "metadata": {},
   "outputs": [],
   "source": [
    "def count_all_unconcealed(prime):\n",
    "    result = []\n",
    "    for e in range(prime - 1):\n",
    "        if fractions.gcd(e, prime - 1) == 1:\n",
    "            result.append(count_unconcealed(prime, e))\n",
    "        else:\n",
    "            result.append(10**20)  # Sentinel\n",
    "    return result"
   ]
  },
  {
   "cell_type": "code",
   "execution_count": 43,
   "metadata": {},
   "outputs": [],
   "source": [
    "def count_unconcealed(modulus, e):\n",
    "    result = 0\n",
    "    for m in range(modulus):\n",
    "        if pow(m, e, modulus) == m:\n",
    "            result += 1\n",
    "    return result"
   ]
  },
  {
   "cell_type": "code",
   "execution_count": 44,
   "metadata": {},
   "outputs": [
    {
     "name": "stderr",
     "output_type": "stream",
     "text": [
      "C:\\Users\\natur\\Anaconda3\\lib\\site-packages\\ipykernel_launcher.py:4: DeprecationWarning: fractions.gcd() is deprecated. Use math.gcd() instead.\n",
      "  after removing the cwd from sys.path.\n"
     ]
    },
    {
     "name": "stdout",
     "output_type": "stream",
     "text": [
      "399788195976\n"
     ]
    }
   ],
   "source": [
    "if __name__ == \"__main__\":\n",
    "    print(compute())"
   ]
  },
  {
   "cell_type": "code",
   "execution_count": null,
   "metadata": {},
   "outputs": [],
   "source": []
  }
 ],
 "metadata": {
  "kernelspec": {
   "display_name": "Python 3",
   "language": "python",
   "name": "python3"
  },
  "language_info": {
   "codemirror_mode": {
    "name": "ipython",
    "version": 3
   },
   "file_extension": ".py",
   "mimetype": "text/x-python",
   "name": "python",
   "nbconvert_exporter": "python",
   "pygments_lexer": "ipython3",
   "version": "3.7.3"
  }
 },
 "nbformat": 4,
 "nbformat_minor": 2
}
